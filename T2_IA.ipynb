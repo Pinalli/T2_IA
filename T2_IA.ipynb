{
  "nbformat": 4,
  "nbformat_minor": 0,
  "metadata": {
    "colab": {
      "provenance": [],
      "collapsed_sections": [],
      "authorship_tag": "ABX9TyM1V4tKt3SAQBLZBRoqANZF",
      "include_colab_link": true
    },
    "kernelspec": {
      "name": "python3",
      "display_name": "Python 3"
    },
    "language_info": {
      "name": "python"
    }
  },
  "cells": [
    {
      "cell_type": "markdown",
      "metadata": {
        "id": "view-in-github",
        "colab_type": "text"
      },
      "source": [
        "<a href=\"https://colab.research.google.com/github/Pinalli/T2_IA/blob/master/T2_IA.ipynb\" target=\"_parent\"><img src=\"https://colab.research.google.com/assets/colab-badge.svg\" alt=\"Open In Colab\"/></a>"
      ]
    },
    {
      "cell_type": "code",
      "execution_count": 10,
      "metadata": {
        "id": "2KTzAdBW1-sh",
        "colab": {
          "base_uri": "https://localhost:8080/"
        },
        "outputId": "e375bb2d-f408-4f32-858f-8331864f5dfd"
      },
      "outputs": [
        {
          "output_type": "stream",
          "name": "stdout",
          "text": [
            "                                                   text\n",
            "0     EdegarPretto O meu candidato vice-governador é...\n",
            "1     Periga o Argenta chamar o Simon pra responder ...\n",
            "2      WinstonLing Segue o link para assistirem o de...\n",
            "3        EdegarPretto Eu quero dizer aos gaúchos e g...\n",
            "4      wmfigueiredo  eve onvf  bandrs  EduardoLeite_...\n",
            "...                                                 ...\n",
            "2995     josenery53  SigaPepeVargas  DilmaResiste  E...\n",
            "2996                           onyxlorenzoni Realmente \n",
            "2997     bandrs Band mantém tradição e realiza o pri...\n",
            "2998     EdegarPretto O debate começou e você pode a...\n",
            "2999   EdegarPretto tem 51 anos e nasceu em Miraguaí...\n",
            "\n",
            "[3000 rows x 1 columns]\n"
          ]
        }
      ],
      "source": [
        "from nltk import word_tokenize\n",
        "import nltk\n",
        "import re\n",
        "from sklearn.feature_extraction.text import CountVectorizer\n",
        "from sklearn.naive_bayes import MultinomialNB\n",
        "from sklearn import svm\n",
        "from sklearn import metrics\n",
        "from sklearn.model_selection import cross_val_predict\n",
        "from nltk.corpus import sentiwordnet as swn\n",
        "import pandas as pd\n",
        "df = pd.read_csv('debate_3000.csv', encoding='utf-8')\n",
        "#breakdown = swn.senti_synset(df)\n",
        "#breakdown = swn.senti_synset('breakdown.n.03')\n",
        "print(df)"
      ]
    },
    {
      "cell_type": "code",
      "source": [
        "df.head()"
      ],
      "metadata": {
        "colab": {
          "base_uri": "https://localhost:8080/",
          "height": 206
        },
        "id": "wspIBLBBDXe1",
        "outputId": "5509abf1-8bd0-499e-f541-5704076c412a"
      },
      "execution_count": null,
      "outputs": [
        {
          "output_type": "execute_result",
          "data": {
            "text/plain": [
              "                                  retweet_count;text\n",
              "0  45;RT  EdegarPretto O meu candidato vice-gover...\n",
              "1  0;Periga o Argenta chamar o Simon pra responde...\n",
              "2  14;RT  WinstonLing Segue o link para assistire...\n",
              "3  88;RT  EdegarPretto Eu quero dizer aos gaúchos...\n",
              "4  0; wmfigueiredo  evertonvf  bandrs  EduardoLei..."
            ],
            "text/html": [
              "\n",
              "  <div id=\"df-fc248287-e7e3-42e8-b39d-8ba2809ca391\">\n",
              "    <div class=\"colab-df-container\">\n",
              "      <div>\n",
              "<style scoped>\n",
              "    .dataframe tbody tr th:only-of-type {\n",
              "        vertical-align: middle;\n",
              "    }\n",
              "\n",
              "    .dataframe tbody tr th {\n",
              "        vertical-align: top;\n",
              "    }\n",
              "\n",
              "    .dataframe thead th {\n",
              "        text-align: right;\n",
              "    }\n",
              "</style>\n",
              "<table border=\"1\" class=\"dataframe\">\n",
              "  <thead>\n",
              "    <tr style=\"text-align: right;\">\n",
              "      <th></th>\n",
              "      <th>retweet_count;text</th>\n",
              "    </tr>\n",
              "  </thead>\n",
              "  <tbody>\n",
              "    <tr>\n",
              "      <th>0</th>\n",
              "      <td>45;RT  EdegarPretto O meu candidato vice-gover...</td>\n",
              "    </tr>\n",
              "    <tr>\n",
              "      <th>1</th>\n",
              "      <td>0;Periga o Argenta chamar o Simon pra responde...</td>\n",
              "    </tr>\n",
              "    <tr>\n",
              "      <th>2</th>\n",
              "      <td>14;RT  WinstonLing Segue o link para assistire...</td>\n",
              "    </tr>\n",
              "    <tr>\n",
              "      <th>3</th>\n",
              "      <td>88;RT  EdegarPretto Eu quero dizer aos gaúchos...</td>\n",
              "    </tr>\n",
              "    <tr>\n",
              "      <th>4</th>\n",
              "      <td>0; wmfigueiredo  evertonvf  bandrs  EduardoLei...</td>\n",
              "    </tr>\n",
              "  </tbody>\n",
              "</table>\n",
              "</div>\n",
              "      <button class=\"colab-df-convert\" onclick=\"convertToInteractive('df-fc248287-e7e3-42e8-b39d-8ba2809ca391')\"\n",
              "              title=\"Convert this dataframe to an interactive table.\"\n",
              "              style=\"display:none;\">\n",
              "        \n",
              "  <svg xmlns=\"http://www.w3.org/2000/svg\" height=\"24px\"viewBox=\"0 0 24 24\"\n",
              "       width=\"24px\">\n",
              "    <path d=\"M0 0h24v24H0V0z\" fill=\"none\"/>\n",
              "    <path d=\"M18.56 5.44l.94 2.06.94-2.06 2.06-.94-2.06-.94-.94-2.06-.94 2.06-2.06.94zm-11 1L8.5 8.5l.94-2.06 2.06-.94-2.06-.94L8.5 2.5l-.94 2.06-2.06.94zm10 10l.94 2.06.94-2.06 2.06-.94-2.06-.94-.94-2.06-.94 2.06-2.06.94z\"/><path d=\"M17.41 7.96l-1.37-1.37c-.4-.4-.92-.59-1.43-.59-.52 0-1.04.2-1.43.59L10.3 9.45l-7.72 7.72c-.78.78-.78 2.05 0 2.83L4 21.41c.39.39.9.59 1.41.59.51 0 1.02-.2 1.41-.59l7.78-7.78 2.81-2.81c.8-.78.8-2.07 0-2.86zM5.41 20L4 18.59l7.72-7.72 1.47 1.35L5.41 20z\"/>\n",
              "  </svg>\n",
              "      </button>\n",
              "      \n",
              "  <style>\n",
              "    .colab-df-container {\n",
              "      display:flex;\n",
              "      flex-wrap:wrap;\n",
              "      gap: 12px;\n",
              "    }\n",
              "\n",
              "    .colab-df-convert {\n",
              "      background-color: #E8F0FE;\n",
              "      border: none;\n",
              "      border-radius: 50%;\n",
              "      cursor: pointer;\n",
              "      display: none;\n",
              "      fill: #1967D2;\n",
              "      height: 32px;\n",
              "      padding: 0 0 0 0;\n",
              "      width: 32px;\n",
              "    }\n",
              "\n",
              "    .colab-df-convert:hover {\n",
              "      background-color: #E2EBFA;\n",
              "      box-shadow: 0px 1px 2px rgba(60, 64, 67, 0.3), 0px 1px 3px 1px rgba(60, 64, 67, 0.15);\n",
              "      fill: #174EA6;\n",
              "    }\n",
              "\n",
              "    [theme=dark] .colab-df-convert {\n",
              "      background-color: #3B4455;\n",
              "      fill: #D2E3FC;\n",
              "    }\n",
              "\n",
              "    [theme=dark] .colab-df-convert:hover {\n",
              "      background-color: #434B5C;\n",
              "      box-shadow: 0px 1px 3px 1px rgba(0, 0, 0, 0.15);\n",
              "      filter: drop-shadow(0px 1px 2px rgba(0, 0, 0, 0.3));\n",
              "      fill: #FFFFFF;\n",
              "    }\n",
              "  </style>\n",
              "\n",
              "      <script>\n",
              "        const buttonEl =\n",
              "          document.querySelector('#df-fc248287-e7e3-42e8-b39d-8ba2809ca391 button.colab-df-convert');\n",
              "        buttonEl.style.display =\n",
              "          google.colab.kernel.accessAllowed ? 'block' : 'none';\n",
              "\n",
              "        async function convertToInteractive(key) {\n",
              "          const element = document.querySelector('#df-fc248287-e7e3-42e8-b39d-8ba2809ca391');\n",
              "          const dataTable =\n",
              "            await google.colab.kernel.invokeFunction('convertToInteractive',\n",
              "                                                     [key], {});\n",
              "          if (!dataTable) return;\n",
              "\n",
              "          const docLinkHtml = 'Like what you see? Visit the ' +\n",
              "            '<a target=\"_blank\" href=https://colab.research.google.com/notebooks/data_table.ipynb>data table notebook</a>'\n",
              "            + ' to learn more about interactive tables.';\n",
              "          element.innerHTML = '';\n",
              "          dataTable['output_type'] = 'display_data';\n",
              "          await google.colab.output.renderOutput(dataTable, element);\n",
              "          const docLink = document.createElement('div');\n",
              "          docLink.innerHTML = docLinkHtml;\n",
              "          element.appendChild(docLink);\n",
              "        }\n",
              "      </script>\n",
              "    </div>\n",
              "  </div>\n",
              "  "
            ]
          },
          "metadata": {},
          "execution_count": 3
        }
      ]
    },
    {
      "cell_type": "markdown",
      "source": [
        "## Pré - Processamento dos Dados\n",
        "\n",
        "*  Remove linhas duplicadas na base de dados\n",
        "    + Problemas na coleta de dados\n",
        "* Remoce StopWords\n",
        "* Stemming ou Lemmatization\n",
        "* Remove caracteres"
      ],
      "metadata": {
        "id": "warvX07dDeoX"
      }
    },
    {
      "cell_type": "code",
      "source": [
        "df.drop_duplicates( inplace=True)\n",
        "print(df)"
      ],
      "metadata": {
        "colab": {
          "base_uri": "https://localhost:8080/"
        },
        "id": "jxd3DXXwDrPe",
        "outputId": "da3bb502-f51a-4988-8d6e-730e2ca96932"
      },
      "execution_count": 11,
      "outputs": [
        {
          "output_type": "stream",
          "name": "stdout",
          "text": [
            "                                                   text\n",
            "0     EdegarPretto O meu candidato vice-governador é...\n",
            "1     Periga o Argenta chamar o Simon pra responder ...\n",
            "2      WinstonLing Segue o link para assistirem o de...\n",
            "3        EdegarPretto Eu quero dizer aos gaúchos e g...\n",
            "4      wmfigueiredo  eve onvf  bandrs  EduardoLeite_...\n",
            "...                                                 ...\n",
            "2988     ptsul  economia solidária está incluída nos...\n",
            "2989     ptsul Os jovens da roça não querem ser agri...\n",
            "2991   vitoriafamer Uma ótima opo unidade para o pes...\n",
            "2995     josenery53  SigaPepeVargas  DilmaResiste  E...\n",
            "2996                           onyxlorenzoni Realmente \n",
            "\n",
            "[1818 rows x 1 columns]\n"
          ]
        }
      ]
    },
    {
      "cell_type": "code",
      "source": [
        "df.count()"
      ],
      "metadata": {
        "colab": {
          "base_uri": "https://localhost:8080/"
        },
        "id": "ThIn4ZReD0U5",
        "outputId": "34a8330c-bcd0-4e7e-c7d1-47f70eaa3c49"
      },
      "execution_count": null,
      "outputs": [
        {
          "output_type": "execute_result",
          "data": {
            "text/plain": [
              "retweet_count;text    661\n",
              "dtype: int64"
            ]
          },
          "metadata": {},
          "execution_count": 5
        }
      ]
    },
    {
      "cell_type": "markdown",
      "source": [
        "## Sepando tweets e suas classes"
      ],
      "metadata": {
        "id": "XW4z2zHXd8NA"
      }
    },
    {
      "cell_type": "code",
      "source": [
        "tweets = df['text']\n",
        "print(tweets)"
      ],
      "metadata": {
        "colab": {
          "base_uri": "https://localhost:8080/"
        },
        "id": "3ZlN4ppNeF3m",
        "outputId": "b28181e2-0546-4f80-c95d-98d067e3d2f7"
      },
      "execution_count": 14,
      "outputs": [
        {
          "output_type": "stream",
          "name": "stdout",
          "text": [
            "0       EdegarPretto O meu candidato vice-governador é...\n",
            "1       Periga o Argenta chamar o Simon pra responder ...\n",
            "2        WinstonLing Segue o link para assistirem o de...\n",
            "3          EdegarPretto Eu quero dizer aos gaúchos e g...\n",
            "4        wmfigueiredo  eve onvf  bandrs  EduardoLeite_...\n",
            "                              ...                        \n",
            "2988       ptsul  economia solidária está incluída nos...\n",
            "2989       ptsul Os jovens da roça não querem ser agri...\n",
            "2991     vitoriafamer Uma ótima opo unidade para o pes...\n",
            "2995       josenery53  SigaPepeVargas  DilmaResiste  E...\n",
            "2996                             onyxlorenzoni Realmente \n",
            "Name: text, Length: 1818, dtype: object\n"
          ]
        }
      ]
    },
    {
      "cell_type": "markdown",
      "source": [
        "## Instalação bibliotecas\n"
      ],
      "metadata": {
        "id": "36xsdCH-ejlw"
      }
    },
    {
      "cell_type": "code",
      "source": [
        "import nltk\n",
        "nltk.download('stopwords')\n",
        "nltk.download('rslp')\n",
        "nltk.download('punkt')\n",
        "nltk.download('wordnet')\n"
      ],
      "metadata": {
        "colab": {
          "base_uri": "https://localhost:8080/"
        },
        "id": "xyIfKmECes-1",
        "outputId": "4d3453cc-6a51-4f5b-fcc1-5c819f23b261"
      },
      "execution_count": 16,
      "outputs": [
        {
          "output_type": "stream",
          "name": "stderr",
          "text": [
            "[nltk_data] Downloading package stopwords to /root/nltk_data...\n",
            "[nltk_data]   Package stopwords is already up-to-date!\n",
            "[nltk_data] Downloading package rslp to /root/nltk_data...\n",
            "[nltk_data]   Unzipping stemmers/rslp.zip.\n",
            "[nltk_data] Downloading package punkt to /root/nltk_data...\n",
            "[nltk_data]   Unzipping tokenizers/punkt.zip.\n",
            "[nltk_data] Downloading package wordnet to /root/nltk_data...\n"
          ]
        },
        {
          "output_type": "execute_result",
          "data": {
            "text/plain": [
              "True"
            ]
          },
          "metadata": {},
          "execution_count": 16
        }
      ]
    },
    {
      "cell_type": "markdown",
      "source": [
        "## Funçoes Pre-processamento\n",
        "\n"
      ],
      "metadata": {
        "id": "tY5GRCBvfKuZ"
      }
    },
    {
      "cell_type": "code",
      "source": [
        "def RemoveStopWords(instancia):\n",
        "    stopwords = set(nltk.corpus.stopwords.words('portuguese'))#carrega a lista de stopwords em portugues\n",
        "    palavras = [i for i in instancia.split() if not i in stopwords]\n",
        "    return (\" \".join(palavras))"
      ],
      "metadata": {
        "id": "o5-90MEcfSFr"
      },
      "execution_count": 18,
      "outputs": []
    },
    {
      "cell_type": "code",
      "source": [
        "def Stemming(instancia):\n",
        "    stemmer = nltk.stem.RSLPStemmer()\n",
        "    palavras = []\n",
        "    for w in instancia.split(): #reduz o sufixo => frequentemente = frequente\n",
        "        palavras.append(stemmer.stem(w))\n",
        "    return (\" \".join(palavras))\n",
        "\n",
        "  "
      ],
      "metadata": {
        "id": "DrCcwl44gCYs"
      },
      "execution_count": 19,
      "outputs": []
    },
    {
      "cell_type": "code",
      "source": [
        "def Limpa_dados(instancia):  #remove links, (. , ; ())\n",
        "    instancia = re.sub(r\"http\\S+\", \"\", instancia).lower().replace('.', '').replace(';','').replace('-', '').replace(',', '')\n",
        "    return (instancia)\n"
      ],
      "metadata": {
        "id": "OyJyiqcegvHP"
      },
      "execution_count": 20,
      "outputs": []
    },
    {
      "cell_type": "code",
      "source": [
        "from nltk.stem import WordNetLemmatizer\n",
        "wordnet_lemmatizer = WordNetLemmatizer()\n",
        "\n",
        "def Lemmatization(instancia): #mais próximo da realidade da palavra\n",
        "    palavras = []\n",
        "    for w in instancia.split():\n",
        "      palavras.append(wordnet_lemmatizer.lemmatize(w))\n",
        "    return (\" \".join(palavras))\n"
      ],
      "metadata": {
        "id": "frCxv4nxieKe"
      },
      "execution_count": 21,
      "outputs": []
    },
    {
      "cell_type": "markdown",
      "source": [
        "\n",
        "## Defs funcionando"
      ],
      "metadata": {
        "id": "E1OrP3TFjqgG"
      }
    },
    {
      "cell_type": "code",
      "source": [
        "RemoveStopWords(\"EdegarPretto Eu quero dizer aos gaúchos e gaúchas que se eu governador vou anular todos os atos de privatização da nossa Corsan…\")"
      ],
      "metadata": {
        "colab": {
          "base_uri": "https://localhost:8080/",
          "height": 35
        },
        "id": "u19KayzYjv3O",
        "outputId": "e297d347-95a1-4191-d84a-66874af35524"
      },
      "execution_count": 22,
      "outputs": [
        {
          "output_type": "execute_result",
          "data": {
            "text/plain": [
              "'EdegarPretto Eu quero dizer gaúchos gaúchas governador vou anular todos atos privatização Corsan…'"
            ],
            "application/vnd.google.colaboratory.intrinsic+json": {
              "type": "string"
            }
          },
          "metadata": {},
          "execution_count": 22
        }
      ]
    },
    {
      "cell_type": "code",
      "source": [
        "Stemming(\"EdegarPretto Eu quero dizer aos gaúchos e gaúchas que se eu governador vou anular todos os atos de privatização da nossa Corsan…\")"
      ],
      "metadata": {
        "colab": {
          "base_uri": "https://localhost:8080/",
          "height": 35
        },
        "id": "bmH2nz5_kAql",
        "outputId": "ac4fa6f9-d63a-40cd-fd71-387fbce94e1b"
      },
      "execution_count": 23,
      "outputs": [
        {
          "output_type": "execute_result",
          "data": {
            "text/plain": [
              "'edegarprett eu quer diz ao gaúch e gaúch que se eu govern vou anul tod os ato de priva da noss corsan…'"
            ],
            "application/vnd.google.colaboratory.intrinsic+json": {
              "type": "string"
            }
          },
          "metadata": {},
          "execution_count": 23
        }
      ]
    },
    {
      "cell_type": "code",
      "source": [
        "Stemming(\"EdegarPretto Eu quero dizer aos gaúchos e gaúchas que se eu governador vou anular todos os atos de privatização da nossa Co\")"
      ],
      "metadata": {
        "colab": {
          "base_uri": "https://localhost:8080/",
          "height": 35
        },
        "id": "wDQbrSAJkVUk",
        "outputId": "e56e0664-11ec-46dc-dd4b-fdd5cc11500c"
      },
      "execution_count": 27,
      "outputs": [
        {
          "output_type": "execute_result",
          "data": {
            "text/plain": [
              "'edegarprett eu quer diz ao gaúch e gaúch que se eu govern vou anul tod os ato de priva da noss co'"
            ],
            "application/vnd.google.colaboratory.intrinsic+json": {
              "type": "string"
            }
          },
          "metadata": {},
          "execution_count": 27
        }
      ]
    },
    {
      "cell_type": "code",
      "source": [
        "Limpa_dados(\"EdegarPretto Eu quero dizer aos gaúchos e gaúchas, que se eu governador vou anular todos os atos de privatização da nossa Corsan…\")"
      ],
      "metadata": {
        "colab": {
          "base_uri": "https://localhost:8080/",
          "height": 35
        },
        "id": "8YC2lEyGk1s-",
        "outputId": "572b7017-9719-4de9-8177-00e063725456"
      },
      "execution_count": 30,
      "outputs": [
        {
          "output_type": "execute_result",
          "data": {
            "text/plain": [
              "'edegarpretto eu quero dizer aos gaúchos e gaúchas, que se eu governador vou anular todos os atos de privatização da nossa corsan…'"
            ],
            "application/vnd.google.colaboratory.intrinsic+json": {
              "type": "string"
            }
          },
          "metadata": {},
          "execution_count": 30
        }
      ]
    }
  ]
}